{
 "cells": [
  {
   "cell_type": "markdown",
   "id": "f0791403-4bc5-4fd3-8434-b781148eecca",
   "metadata": {},
   "source": [
    "# Data Science Tools and Ecosystem"
   ]
  },
  {
   "cell_type": "markdown",
   "id": "a441ef88-ae0f-449d-9545-0d581f196e8f",
   "metadata": {},
   "source": [
    "In this notebook, Data Science Tools and Ecosystem are summarized."
   ]
  },
  {
   "cell_type": "markdown",
   "id": "bc87c5d6-fb16-4421-b11a-ec415427a952",
   "metadata": {},
   "source": [
    "__Objectives__\n",
    "- Popular Languages for Data Science\n",
    "- Common Libraries used in Data Science\n",
    "- Data Science Tools\n",
    "- Arithmetic Expressions in Python"
   ]
  },
  {
   "cell_type": "markdown",
   "id": "b597f762-5dc2-45f8-b5d9-422af54ba8d7",
   "metadata": {},
   "source": [
    "Some of the popular languages that Data Scientists use are:\n",
    "1. Python\n",
    "2. R\n",
    "3. Julia\n",
    "4. Scala"
   ]
  },
  {
   "cell_type": "markdown",
   "id": "0a15e9e1-7da6-4aeb-af79-9d42a525ad0e",
   "metadata": {},
   "source": [
    "Some of the commonly used libraries by Data Scientists include:\n",
    "1. Pandas\n",
    "2. Numpy\n",
    "3. Matplotlib\n",
    "4. Seabor"
   ]
  },
  {
   "cell_type": "markdown",
   "id": "df33ffd5-a8ce-40c3-b6e9-c6579d1be099",
   "metadata": {},
   "source": [
    "| Data Science Tools           |\n",
    "|------------------------------|\n",
    "| Jupyter Notebook             |\n",
    "| RStudio                      |\n",
    "| Apache Zeppelin |\n"
   ]
  },
  {
   "cell_type": "markdown",
   "id": "90335731-af0e-44d2-a21b-4dd4e87f3a48",
   "metadata": {},
   "source": [
    "### Below are a few examples of evaluating arithmetic expressions in Python"
   ]
  },
  {
   "cell_type": "code",
   "execution_count": 5,
   "id": "e3af37db-2462-4000-a96f-42d0a5c5ab48",
   "metadata": {},
   "outputs": [
    {
     "data": {
      "text/plain": [
       "17"
      ]
     },
     "execution_count": 5,
     "metadata": {},
     "output_type": "execute_result"
    }
   ],
   "source": [
    "#  This is a simple arithmetic expression to multiply and then add integers\n",
    "(3*4)+5"
   ]
  },
  {
   "cell_type": "code",
   "execution_count": 12,
   "id": "d2c8a7fd-7500-4d12-9adf-7849980a2be5",
   "metadata": {},
   "outputs": [
    {
     "name": "stdout",
     "output_type": "stream",
     "text": [
      "3.3333333333333335\n"
     ]
    }
   ],
   "source": [
    "# This will convert 200 minutes to hours by diving by 60\n",
    "time_min = 200\n",
    "time_hrs = 200/60\n",
    "print(time_hrs)"
   ]
  },
  {
   "cell_type": "markdown",
   "id": "9751fa6f-223b-42e0-b936-af2c9c738007",
   "metadata": {},
   "source": [
    "## Author\n",
    "Edem Bleppony"
   ]
  }
 ],
 "metadata": {
  "kernelspec": {
   "display_name": "Python [conda env:base] *",
   "language": "python",
   "name": "conda-base-py"
  },
  "language_info": {
   "codemirror_mode": {
    "name": "ipython",
    "version": 3
   },
   "file_extension": ".py",
   "mimetype": "text/x-python",
   "name": "python",
   "nbconvert_exporter": "python",
   "pygments_lexer": "ipython3",
   "version": "3.12.7"
  }
 },
 "nbformat": 4,
 "nbformat_minor": 5
}
